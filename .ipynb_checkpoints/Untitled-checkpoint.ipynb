{
 "cells": [
  {
   "cell_type": "markdown",
   "metadata": {},
   "source": [
    "# Introduction"
   ]
  },
  {
   "cell_type": "markdown",
   "metadata": {},
   "source": [
    "The idea of this study is to analyze the diffrences and similarities of New York City and Toronto cultures and why this is using locational data and K-Means clustering to segment the neighbourhoods of each city into common groups.\n"
   ]
  },
  {
   "cell_type": "markdown",
   "metadata": {},
   "source": [
    "# Downloading and prepping data"
   ]
  },
  {
   "cell_type": "markdown",
   "metadata": {},
   "source": [
    "In order for the analysis to be done location data is pulled from the 4square API and postal codes for toronto are puled from the wikipedia page \n",
    "\n",
    "https://en.wikipedia.org/wiki/List_of_postal_codes_of_Canada:_M\n",
    "\n",
    "The data is pulled into a PD dataframe and NaN values are dropped, Then the neighbourhoods with the same postal code are put in the same row and spereated by as '/'\n",
    "\n",
    "The same is done for NYC neighbourhoods but the data is taken from the .csv file provided \n"
   ]
  },
  {
   "cell_type": "markdown",
   "metadata": {},
   "source": [
    "# How the Data will be used "
   ]
  },
  {
   "cell_type": "markdown",
   "metadata": {},
   "source": [
    "The data after rpocessed we wil perform clustering via K-Means with the top 10 venues from each neighbourhood in order to be able to analyze the cities culltures and be abe to compare their similarites and anayze their diffrences and comment on why this may be."
   ]
  },
  {
   "cell_type": "code",
   "execution_count": null,
   "metadata": {},
   "outputs": [],
   "source": []
  }
 ],
 "metadata": {
  "kernelspec": {
   "display_name": "Python 3",
   "language": "python",
   "name": "python3"
  },
  "language_info": {
   "codemirror_mode": {
    "name": "ipython",
    "version": 3
   },
   "file_extension": ".py",
   "mimetype": "text/x-python",
   "name": "python",
   "nbconvert_exporter": "python",
   "pygments_lexer": "ipython3",
   "version": "3.7.4"
  }
 },
 "nbformat": 4,
 "nbformat_minor": 2
}
